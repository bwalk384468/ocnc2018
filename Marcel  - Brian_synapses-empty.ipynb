{
 "cells": [
  {
   "cell_type": "code",
   "execution_count": 1,
   "metadata": {
    "collapsed": true
   },
   "outputs": [],
   "source": [
    "%matplotlib inline\n",
    "from brian2 import *\n",
    "prefs.codegen.target = 'numpy'"
   ]
  },
  {
   "cell_type": "markdown",
   "metadata": {},
   "source": [
    "## Synapses"
   ]
  },
  {
   "cell_type": "code",
   "execution_count": 8,
   "metadata": {},
   "outputs": [
    {
     "name": "stderr",
     "output_type": "stream",
     "text": [
      "INFO       No numerical integration method specified for group 'neurongroup_2', using method 'exact' (took 0.11s). [brian2.stateupdaters.base.method_choice]\n"
     ]
    },
    {
     "name": "stdout",
     "output_type": "stream",
     "text": [
      "Starting simulation at t=0. s for a duration of 100. ms\n",
      "100. ms (100%) simulated in < 1s\n"
     ]
    }
   ],
   "source": [
    "# Regular spiking cells (will be useful as stimulation for other neurons later)\n",
    "start_scope()\n",
    "\n",
    "input_spikes = SpikeGeneratorGroup(10,np.arange(10),np.arange(10)*ms,period = 10*ms) # 10 neurons, indexes of the neurons that should spike, times that the spikes occur, period repeats spike pattern every 10ms\n",
    "\n",
    "Cm = 200*pF\n",
    "E_L = -70*mV\n",
    "f= 100*Hz\n",
    "\n",
    "eqs = '''\n",
    "dVm/dt = 1/Cm * (I_inj + g_L * (E_L - Vm)) : volt (unless refractory)\n",
    "g_L : siemens\n",
    "I_inj = 0*nA : amp \n",
    "'''\n",
    "# The unless refractory says clamp Vm and don't follow eqns during refractory period\n",
    "\n",
    "group = NeuronGroup(18,eqs, threshold='Vm> -45*mV',reset = 'Vm = E_L',refractory=5*ms)\n",
    "group.Vm = E_L\n",
    "group.g_L = '10*nS + rand()*5*nS'\n",
    "\n",
    "syn = Synapses(input_spikes,group,'w : volt',on_pre='Vm_post += w') # spikes to put in, which group of neurons, synapse model (direct change in postsynapstic voltage potential), define when to do something when presynaptic synapse spikes\n",
    "syn.connect() # how to connect synapses (lots of ways to do this)\n",
    "syn.w = '1*mV + rand()*4*mV'\n",
    "syn.delay = '1*ms + rand()*5*ms'\n",
    "\n",
    "mon = StateMonitor(group, 'Vm', record=True) #monitor the membrane voltage\n",
    "spike_mon = SpikeMonitor(input_spikes)\n",
    "run(100*ms, report='text')"
   ]
  },
  {
   "cell_type": "code",
   "execution_count": 9,
   "metadata": {},
   "outputs": [
    {
     "data": {
      "text/plain": [
       "[<matplotlib.lines.Line2D at 0x7fdf23cbba90>]"
      ]
     },
     "execution_count": 9,
     "metadata": {},
     "output_type": "execute_result"
    },
    {
     "data": {
      "image/png": "[encoded data removed]",
      "text/plain": [
       "<Figure size 432x288 with 1 Axes>"
      ]
     },
     "metadata": {},
     "output_type": "display_data"
    }
   ],
   "source": [
    "plt.plot(mon.t/ms, mon.Vm[1]/mV)"
   ]
  },
  {
   "cell_type": "code",
   "execution_count": null,
   "metadata": {
    "collapsed": true
   },
   "outputs": [],
   "source": [
    "# Simple synaptic connection\n",
    "start_scope()"
   ]
  },
  {
   "cell_type": "code",
   "execution_count": null,
   "metadata": {
    "collapsed": true
   },
   "outputs": [],
   "source": [
    ""
   ]
  },
  {
   "cell_type": "code",
   "execution_count": null,
   "metadata": {
    "collapsed": true
   },
   "outputs": [],
   "source": [
    "plt.plot(mon.t/ms, mon.V_m.T/mV);"
   ]
  },
  {
   "cell_type": "code",
   "execution_count": null,
   "metadata": {
    "collapsed": true
   },
   "outputs": [],
   "source": [
    "# Simple synaptic connection\n",
    "start_scope()"
   ]
  },
  {
   "cell_type": "code",
   "execution_count": null,
   "metadata": {
    "collapsed": true
   },
   "outputs": [],
   "source": [
    ""
   ]
  },
  {
   "cell_type": "markdown",
   "metadata": {},
   "source": [
    "### [Exercise: synaptic delays]\n",
    "\n",
    "With all-to-all connectivity and the temporal stimulation pattern from above: how would you set the synaptic delays to get the most efficient post-synaptic stimulation?"
   ]
  },
  {
   "cell_type": "code",
   "execution_count": null,
   "metadata": {
    "collapsed": true
   },
   "outputs": [],
   "source": [
    ""
   ]
  }
 ],
 "metadata": {
  "kernelspec": {
   "display_name": "Python 3",
   "language": "python",
   "name": "python3"
  },
  "language_info": {
   "codemirror_mode": {
    "name": "ipython",
    "version": 3.0
   },
   "file_extension": ".py",
   "mimetype": "text/x-python",
   "name": "python",
   "nbconvert_exporter": "python",
   "pygments_lexer": "ipython3",
   "version": "3.6.3"
  }
 },
 "nbformat": 4,
 "nbformat_minor": 0
}