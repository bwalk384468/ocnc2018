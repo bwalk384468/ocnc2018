{
 "cells": [
  {
   "cell_type": "markdown",
   "metadata": {},
   "source": [
    "# Profiling and optimisation with Python\n",
    "\n",
    "Also see: http://paris-swc.github.io/python-testing-debugging-profiling/"
   ]
  },
  {
   "cell_type": "code",
   "execution_count": 1,
   "metadata": {
    "collapsed": true
   },
   "outputs": [],
   "source": [
    "import numpy as np\n",
    "import matplotlib.pyplot as plt\n",
    "%matplotlib inline"
   ]
  },
  {
   "cell_type": "markdown",
   "metadata": {},
   "source": [
    "## Measuring total run times"
   ]
  },
  {
   "cell_type": "code",
   "execution_count": 2,
   "metadata": {
    "collapsed": true
   },
   "outputs": [],
   "source": [
    "import kmeans"
   ]
  },
  {
   "cell_type": "code",
   "execution_count": 3,
   "metadata": {
    "collapsed": true
   },
   "outputs": [],
   "source": [
    "def test_kmeans_two_gaussians(points, plot=False):\n",
    "    \"\"\"\n",
    "    Use the kmeans algorithms with two 2-d Gaussians with different means and variances.\n",
    "    One of the Gaussians has twice as many points as the other.\n",
    "    \n",
    "    points scales the total number of points.\n",
    "    \n",
    "    If `plot` is True, plot the data points and clusters (don't do this for many data points!).\n",
    "    \"\"\"\n",
    "    N1, N2 = int(2*points), int(1*points)\n",
    "    data = np.vstack([np.random.multivariate_normal([-2, -2], [[1, 0],   [0, 1]], size=N1),\n",
    "                      np.random.multivariate_normal([1, 1],   [[0.5, 0], [0, 2]], size=N2)])\n",
    "    labels = np.concatenate([np.zeros(N1), np.ones(N2)])\n",
    "    initial = np.array([[-1, 0], [1, 0]])\n",
    "    correct = kmeans.evaluate(data, labels, initial, plot=plot)\n",
    "    return correct"
   ]
  },
  {
   "cell_type": "code",
   "execution_count": 7,
   "metadata": {},
   "outputs": [
    {
     "name": "stdout",
     "output_type": "stream",
     "text": [
      "Wall time: 1.36 s\n"
     ]
    },
    {
     "data": {
      "text/plain": [
       "0.97920666666666667"
      ]
     },
     "execution_count": 7,
     "metadata": {},
     "output_type": "execute_result"
    }
   ],
   "source": [
    "%time test_kmeans_two_gaussians(100000)"
   ]
  },
  {
   "cell_type": "code",
   "execution_count": 8,
   "metadata": {},
   "outputs": [
    {
     "name": "stdout",
     "output_type": "stream",
     "text": [
      "845 ns ± 15 ns per loop (mean ± std. dev. of 7 runs, 1000000 loops each)\n"
     ]
    }
   ],
   "source": [
    "%timeit x = np.zeros(100)"
   ]
  },
  {
   "cell_type": "markdown",
   "metadata": {},
   "source": [
    "## Measuring detailed run times"
   ]
  },
  {
   "cell_type": "code",
   "execution_count": 11,
   "metadata": {},
   "outputs": [
    {
     "name": "stdout",
     "output_type": "stream",
     "text": [
      " "
     ]
    }
   ],
   "source": [
    "%prun -s cumulative test_kmeans_two_gaussians(100000)"
   ]
  },
  {
   "cell_type": "code",
   "execution_count": 12,
   "metadata": {
    "collapsed": true
   },
   "outputs": [],
   "source": [
    "%load_ext snakeviz"
   ]
  },
  {
   "cell_type": "code",
   "execution_count": 13,
   "metadata": {},
   "outputs": [
    {
     "name": "stdout",
     "output_type": "stream",
     "text": [
      " \n",
      "*** Profile stats marshalled to file 'C:\\\\Users\\\\BDUBS\\\\AppData\\\\Local\\\\Temp\\\\tmp_dhqhbf7'. \n"
     ]
    }
   ],
   "source": [
    "%snakeviz test_kmeans_two_gaussians(100000)"
   ]
  },
  {
   "cell_type": "code",
   "execution_count": 15,
   "metadata": {},
   "outputs": [
    {
     "name": "stdout",
     "output_type": "stream",
     "text": [
      "The line_profiler extension is already loaded. To reload it, use:\n",
      "  %reload_ext line_profiler\n"
     ]
    }
   ],
   "source": [
    "%load_ext line_profiler\n"
   ]
  },
  {
   "cell_type": "code",
   "execution_count": 17,
   "metadata": {
    "collapsed": true
   },
   "outputs": [],
   "source": [
    "%lprun -f kmeans.kmeans test_kmeans_two_gaussians(100000)"
   ]
  },
  {
   "cell_type": "markdown",
   "metadata": {},
   "source": [
    "### Warning: don't get lost in micro-optimisations"
   ]
  },
  {
   "cell_type": "code",
   "execution_count": 21,
   "metadata": {
    "collapsed": true
   },
   "outputs": [],
   "source": [
    "def is_prime(x):\n",
    "    found = False\n",
    "    for y in range(2, x):\n",
    "        if x % y == 0:\n",
    "            found = True\n",
    "    return not found\n",
    "\n",
    "def test_primes(low, high, n):\n",
    "    test_data = np.random.randint(low, high, size=n)\n",
    "    for number in test_data:\n",
    "        # we throw away the results, we just use it to see how long it takes\n",
    "        is_prime(number)"
   ]
  },
  {
   "cell_type": "code",
   "execution_count": 22,
   "metadata": {
    "collapsed": true
   },
   "outputs": [],
   "source": [
    "%lprun -f is_prime test_primes(0,1000,1000)"
   ]
  },
  {
   "cell_type": "markdown",
   "metadata": {},
   "source": [
    "## Parallelization with multiple processes\n",
    "\n",
    "**\"Embarassingly parallel\"** Problem: a problem that can be trivially separated into independent tasks\n",
    "\n",
    "Typical examples:\n",
    "  * Running the same calculation/analysis on different data sets\n",
    "  * Running the same non-deterministic simulation several times\n",
    "  * Parameter explorations"
   ]
  },
  {
   "cell_type": "code",
   "execution_count": null,
   "metadata": {},
   "outputs": [],
   "source": [
    "%%time\n",
    "import multiprocessing\n",
    "pool = multiprocessing.Pool(4)\n",
    "# also look into joblib library that we don't show here\n",
    "\n",
    "\n",
    "#correct = np.zeros(10)\n",
    "#for trial in range(10):\n",
    "#    correct[trial] = test_kmeans_two_gaussians(100000)\n",
    "    \n",
    "correct = pool.map(test_kmeans_two_gaussians, np.ones(10)*100000)"
   ]
  },
  {
   "cell_type": "code",
   "execution_count": 26,
   "metadata": {},
   "outputs": [
    {
     "data": {
      "text/plain": [
       "[0.97919999999999996,\n",
       " 0.97877333333333338,\n",
       " 0.97835000000000005,\n",
       " 0.97842333333333331,\n",
       " 0.97869666666666666,\n",
       " 0.9788,\n",
       " 0.97919333333333336,\n",
       " 0.97871333333333332,\n",
       " 0.97896666666666665,\n",
       " 0.97832333333333332]"
      ]
     },
     "execution_count": 26,
     "metadata": {},
     "output_type": "execute_result"
    }
   ],
   "source": [
    "correct"
   ]
  },
  {
   "cell_type": "code",
   "execution_count": null,
   "metadata": {
    "collapsed": true
   },
   "outputs": [],
   "source": []
  }
 ],
 "metadata": {
  "kernelspec": {
   "display_name": "Python 3",
   "language": "python",
   "name": "python3"
  },
  "language_info": {
   "codemirror_mode": {
    "name": "ipython",
    "version": 3
   },
   "file_extension": ".py",
   "mimetype": "text/x-python",
   "name": "python",
   "nbconvert_exporter": "python",
   "pygments_lexer": "ipython3",
   "version": "3.6.3"
  }
 },
 "nbformat": 4,
 "nbformat_minor": 2
}
