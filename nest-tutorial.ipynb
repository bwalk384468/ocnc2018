{
 "cells": [
  {
   "cell_type": "code",
   "execution_count": 1,
   "metadata": {},
   "outputs": [
    {
     "name": "stdout",
     "output_type": "stream",
     "text": [
      "Populating the interactive namespace from numpy and matplotlib\n"
     ]
    }
   ],
   "source": [
    "%pylab inline\n",
    "import nest"
   ]
  },
  {
   "cell_type": "code",
   "execution_count": 2,
   "metadata": {},
   "outputs": [
    {
     "name": "stdout",
     "output_type": "stream",
     "text": [
      "NEST help needs to know where NEST is installed.Please source nest_vars.sh or define NEST_INSTALL_DIR manually.\n"
     ]
    }
   ],
   "source": [
    "nest.Models('nodes')\n",
    "nest.help('iaf_psc_exp')"
   ]
  },
  {
   "cell_type": "code",
   "execution_count": 3,
   "metadata": {},
   "outputs": [
    {
     "data": {
      "text/plain": [
       "({'archiver_length': 0,\n",
       "  'beta_Ca': 0.001,\n",
       "  'C_m': 250.0,\n",
       "  'Ca': 0.0,\n",
       "  'E_L': -70.0,\n",
       "  'element_type': <SLILiteral: neuron>,\n",
       "  'frozen': False,\n",
       "  'global_id': 1,\n",
       "  'I_e': 0.0,\n",
       "  'local': True,\n",
       "  'local_id': 1,\n",
       "  'model': <SLILiteral: iaf_psc_exp>,\n",
       "  'node_uses_wfr': False,\n",
       "  'parent': 0,\n",
       "  'recordables': (<SLILiteral: I_syn_ex>,\n",
       "   <SLILiteral: I_syn_in>,\n",
       "   <SLILiteral: V_m>,\n",
       "   <SLILiteral: weighted_spikes_ex>,\n",
       "   <SLILiteral: weighted_spikes_in>),\n",
       "  'supports_precise_spikes': False,\n",
       "  'synaptic_elements': {},\n",
       "  't_ref': 2.0,\n",
       "  't_spike': -1.0,\n",
       "  'tau_Ca': 10000.0,\n",
       "  'tau_m': 10.0,\n",
       "  'tau_minus': 20.0,\n",
       "  'tau_minus_triplet': 110.0,\n",
       "  'tau_syn_ex': 2.0,\n",
       "  'tau_syn_in': 2.0,\n",
       "  'thread': 0,\n",
       "  'thread_local_id': -1,\n",
       "  'V_m': -70.0,\n",
       "  'V_reset': -70.0,\n",
       "  'V_th': -55.0,\n",
       "  'vp': 0},)"
      ]
     },
     "execution_count": 3,
     "metadata": {},
     "output_type": "execute_result"
    }
   ],
   "source": [
    "neuron = nest.Create('iaf_psc_exp')\n",
    "nest.GetStatus(neuron)"
   ]
  },
  {
   "cell_type": "code",
   "execution_count": 8,
   "metadata": {},
   "outputs": [
    {
     "data": {
      "text/plain": [
       "({'allow_offgrid_spikes': False,\n",
       "  'element_type': <SLILiteral: stimulator>,\n",
       "  'frozen': False,\n",
       "  'global_id': 4,\n",
       "  'local': True,\n",
       "  'local_id': 4,\n",
       "  'model': <SLILiteral: spike_generator>,\n",
       "  'node_uses_wfr': False,\n",
       "  'origin': 0.0,\n",
       "  'parent': 0,\n",
       "  'precise_times': False,\n",
       "  'shift_now_spikes': False,\n",
       "  'spike_multiplicities': array([], dtype=int64),\n",
       "  'spike_times': array([], dtype=float64),\n",
       "  'spike_weights': array([], dtype=float64),\n",
       "  'start': 0.0,\n",
       "  'stop': 1.7976931348623157e+308,\n",
       "  'supports_precise_spikes': False,\n",
       "  'thread': 0,\n",
       "  'thread_local_id': -1,\n",
       "  'vp': 0},)"
      ]
     },
     "execution_count": 8,
     "metadata": {},
     "output_type": "execute_result"
    }
   ],
   "source": [
    "# make a spike generator\n",
    "spikeGenerator = nest.Create('spike_generator')\n",
    "nest.GetStatus(spikeGenerator)"
   ]
  },
  {
   "cell_type": "code",
   "execution_count": 9,
   "metadata": {},
   "outputs": [
    {
     "data": {
      "text/plain": [
       "({'allow_offgrid_spikes': False,\n",
       "  'element_type': <SLILiteral: stimulator>,\n",
       "  'frozen': False,\n",
       "  'global_id': 4,\n",
       "  'local': True,\n",
       "  'local_id': 4,\n",
       "  'model': <SLILiteral: spike_generator>,\n",
       "  'node_uses_wfr': False,\n",
       "  'origin': 0.0,\n",
       "  'parent': 0,\n",
       "  'precise_times': False,\n",
       "  'shift_now_spikes': False,\n",
       "  'spike_multiplicities': array([], dtype=int64),\n",
       "  'spike_times': array([ 10.,  50.]),\n",
       "  'spike_weights': array([], dtype=float64),\n",
       "  'start': 0.0,\n",
       "  'stop': 1.7976931348623157e+308,\n",
       "  'supports_precise_spikes': False,\n",
       "  'thread': 0,\n",
       "  'thread_local_id': -1,\n",
       "  'vp': 0},)"
      ]
     },
     "execution_count": 9,
     "metadata": {},
     "output_type": "execute_result"
    }
   ],
   "source": [
    "nest.SetStatus(spikeGenerator,dict(spike_times=[10.,50.]))\n",
    "nest.GetStatus(spikeGenerator)"
   ]
  },
  {
   "cell_type": "code",
   "execution_count": 10,
   "metadata": {},
   "outputs": [
    {
     "data": {
      "text/plain": [
       "({'binary': False,\n",
       "  'close_after_simulate': False,\n",
       "  'close_on_reset': True,\n",
       "  'element_type': <SLILiteral: recorder>,\n",
       "  'events': {'senders': array([], dtype=int64),\n",
       "   'times': array([], dtype=float64),\n",
       "   'V_m': array([], dtype=float64)},\n",
       "  'fbuffer_size': -1,\n",
       "  'file_extension': 'dat',\n",
       "  'flush_after_simulate': True,\n",
       "  'flush_records': False,\n",
       "  'frozen': False,\n",
       "  'global_id': 5,\n",
       "  'interval': 1.0,\n",
       "  'label': '',\n",
       "  'local': True,\n",
       "  'local_id': 5,\n",
       "  'model': <SLILiteral: voltmeter>,\n",
       "  'n_events': 0,\n",
       "  'node_uses_wfr': False,\n",
       "  'offset': 0.0,\n",
       "  'origin': 0.0,\n",
       "  'parent': 0,\n",
       "  'precision': 3,\n",
       "  'record_from': (<SLILiteral: V_m>,),\n",
       "  'record_to': (<SLILiteral: memory>,),\n",
       "  'scientific': False,\n",
       "  'start': 0.0,\n",
       "  'stop': 1.7976931348623157e+308,\n",
       "  'supports_precise_spikes': False,\n",
       "  'thread': 0,\n",
       "  'thread_local_id': -1,\n",
       "  'time_in_steps': False,\n",
       "  'to_accumulator': False,\n",
       "  'to_file': False,\n",
       "  'to_memory': True,\n",
       "  'to_screen': False,\n",
       "  'use_gid_in_filename': True,\n",
       "  'vp': 0,\n",
       "  'withgid': True,\n",
       "  'withport': False,\n",
       "  'withrport': False,\n",
       "  'withtargetgid': False,\n",
       "  'withtime': True,\n",
       "  'withweight': False},)"
      ]
     },
     "execution_count": 10,
     "metadata": {},
     "output_type": "execute_result"
    }
   ],
   "source": [
    "voltmeter = nest.Create('voltmeter')\n",
    "nest.GetStatus(voltmeter)"
   ]
  },
  {
   "cell_type": "code",
   "execution_count": 12,
   "metadata": {},
   "outputs": [
    {
     "data": {
      "text/plain": [
       "{'data_path': '',\n",
       " 'data_prefix': '',\n",
       " 'dict_miss_is_error': True,\n",
       " 'grng_seed': 0,\n",
       " 'local_num_threads': 1,\n",
       " 'local_spike_counter': 0,\n",
       " 'max_delay': 1.0,\n",
       " 'min_delay': 1.0,\n",
       " 'ms_per_tic': 0.001,\n",
       " 'network_size': 6,\n",
       " 'num_connections': 3,\n",
       " 'num_processes': 1,\n",
       " 'off_grid_spiking': False,\n",
       " 'overwrite_files': False,\n",
       " 'print_time': False,\n",
       " 'receive_buffer_size': 12,\n",
       " 'resolution': 0.1,\n",
       " 'rng_seeds': (1,),\n",
       " 'send_buffer_size': 12,\n",
       " 'structural_plasticity_synapses': {},\n",
       " 'structural_plasticity_update_interval': 1000,\n",
       " 'T_min': -1152921504606846.8,\n",
       " 'T_max': 1152921504606846.8,\n",
       " 'tics_per_ms': 1000.0,\n",
       " 'tics_per_step': 100,\n",
       " 'time': 100.0,\n",
       " 'time_collocate': 5.199999999999995e-05,\n",
       " 'time_communicate': 1.4000000000000003e-05,\n",
       " 'to_do': 0,\n",
       " 'total_num_virtual_procs': 1,\n",
       " 'use_wfr': True,\n",
       " 'wfr_comm_interval': 1.0,\n",
       " 'wfr_interpolation_order': 3,\n",
       " 'wfr_max_iterations': 15,\n",
       " 'wfr_tol': 0.0001}"
      ]
     },
     "execution_count": 12,
     "metadata": {},
     "output_type": "execute_result"
    }
   ],
   "source": [
    "nest.Connect(spikegenerator,neuron,syn_spec=dict(weight=1E3))\n",
    "nest.Connect(voltmeter,neuron)\n",
    "nest.Simulate(100.)\n",
    "nest.GetKernelStatus()\n",
    "\n",
    "times = nest.GetStatus(voltmeter)[0]['events']['times']\n",
    "voltages = nest.GetStatus"
   ]
  },
  {
   "cell_type": "code",
   "execution_count": null,
   "metadata": {},
   "outputs": [],
   "source": []
  }
 ],
 "metadata": {
  "kernelspec": {
   "display_name": "Python 3",
   "language": "python",
   "name": "python3"
  },
  "language_info": {
   "codemirror_mode": {
    "name": "ipython",
    "version": 3
   },
   "file_extension": ".py",
   "mimetype": "text/x-python",
   "name": "python",
   "nbconvert_exporter": "python",
   "pygments_lexer": "ipython3",
   "version": "3.6.5"
  }
 },
 "nbformat": 4,
 "nbformat_minor": 2
}
